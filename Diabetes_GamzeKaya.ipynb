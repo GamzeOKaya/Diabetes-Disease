{
 "cells": [
  {
   "cell_type": "markdown",
   "id": "16aef440-f49d-4a07-9f46-28e5277ade88",
   "metadata": {},
   "source": [
    "# Diabetes Dataset \n",
    "    * Use Logistic Regression and KNN Classification"
   ]
  },
  {
   "cell_type": "markdown",
   "id": "0951cea3-2076-482a-9e2a-1e7612d26f5f",
   "metadata": {},
   "source": [
    "# Import Library"
   ]
  },
  {
   "cell_type": "code",
   "execution_count": 1,
   "id": "5de98e70",
   "metadata": {},
   "outputs": [],
   "source": [
    "import numpy as np\n",
    "import pandas as pd\n",
    "import matplotlib.pyplot as plt\n",
    "import seaborn as sns\n",
    "import warnings\n",
    "warnings.filterwarnings(\"ignore\")\n",
    "plt.rcParams['figure.figsize'] = (10,6)\n",
    "plt.style.use(\"seaborn-whitegrid\")\n",
    "pd.set_option('display.float_format', '{:.3f}'.format)"
   ]
  },
  {
   "cell_type": "markdown",
   "id": "55c78ff5-7728-4a03-9e18-1a3fb11a7ec3",
   "metadata": {},
   "source": [
    "# Read Dataset"
   ]
  },
  {
   "cell_type": "code",
   "execution_count": 2,
   "id": "de2a4cde",
   "metadata": {},
   "outputs": [],
   "source": [
    "data = pd.read_csv(\"diabetes.csv\")"
   ]
  },
  {
   "cell_type": "code",
   "execution_count": 1,
   "id": "a22ef48d",
   "metadata": {},
   "outputs": [
    {
     "name": "stdout",
     "output_type": "stream",
     "text": [
      "Collecting https://github.com/ipython-contrib/jupyter_contrib_nbextensions/tarball/master\n",
      "  Downloading https://github.com/ipython-contrib/jupyter_contrib_nbextensions/tarball/master\n",
      "Requirement already satisfied: ipython_genutils in c:\\users\\gamze\\anaconda3\\lib\\site-packages (from jupyter-contrib-nbextensions==0.5.3) (0.2.0)\n",
      "Requirement already satisfied: jupyter_contrib_core>=0.3.3 in c:\\users\\gamze\\anaconda3\\lib\\site-packages (from jupyter-contrib-nbextensions==0.5.3) (0.3.3)\n",
      "Requirement already satisfied: jupyter_core in c:\\users\\gamze\\anaconda3\\lib\\site-packages (from jupyter-contrib-nbextensions==0.5.3) (4.7.1)\n",
      "Requirement already satisfied: jupyter_highlight_selected_word>=0.1.1 in c:\\users\\gamze\\anaconda3\\lib\\site-packages (from jupyter-contrib-nbextensions==0.5.3) (0.2.0)\n",
      "Requirement already satisfied: jupyter_latex_envs>=1.4.0 in c:\\users\\gamze\\anaconda3\\lib\\site-packages (from jupyter-contrib-nbextensions==0.5.3) (1.4.6)\n",
      "Requirement already satisfied: jupyter_nbextensions_configurator>=0.4.0 in c:\\users\\gamze\\anaconda3\\lib\\site-packages (from jupyter-contrib-nbextensions==0.5.3) (0.4.1)\n",
      "Requirement already satisfied: nbconvert>=6.0 in c:\\users\\gamze\\anaconda3\\lib\\site-packages (from jupyter-contrib-nbextensions==0.5.3) (6.0.7)\n",
      "Requirement already satisfied: notebook>=6.0 in c:\\users\\gamze\\anaconda3\\lib\\site-packages (from jupyter-contrib-nbextensions==0.5.3) (6.3.0)\n",
      "Requirement already satisfied: tornado in c:\\users\\gamze\\anaconda3\\lib\\site-packages (from jupyter-contrib-nbextensions==0.5.3) (6.1)\n",
      "Requirement already satisfied: traitlets>=4.1 in c:\\users\\gamze\\anaconda3\\lib\\site-packages (from jupyter-contrib-nbextensions==0.5.3) (5.0.5)\n",
      "Requirement already satisfied: lxml in c:\\users\\gamze\\anaconda3\\lib\\site-packages (from jupyter-contrib-nbextensions==0.5.3) (4.6.3)\n",
      "Requirement already satisfied: setuptools in c:\\users\\gamze\\anaconda3\\lib\\site-packages (from jupyter_contrib_core>=0.3.3->jupyter-contrib-nbextensions==0.5.3) (52.0.0.post20210125)\n",
      "Requirement already satisfied: ipython in c:\\users\\gamze\\anaconda3\\lib\\site-packages (from jupyter_latex_envs>=1.4.0->jupyter-contrib-nbextensions==0.5.3) (7.22.0)\n",
      "Requirement already satisfied: pyyaml in c:\\users\\gamze\\anaconda3\\lib\\site-packages (from jupyter_nbextensions_configurator>=0.4.0->jupyter-contrib-nbextensions==0.5.3) (5.4.1)\n",
      "Requirement already satisfied: jinja2>=2.4 in c:\\users\\gamze\\anaconda3\\lib\\site-packages (from nbconvert>=6.0->jupyter-contrib-nbextensions==0.5.3) (2.11.3)\n",
      "Requirement already satisfied: pygments>=2.4.1 in c:\\users\\gamze\\anaconda3\\lib\\site-packages (from nbconvert>=6.0->jupyter-contrib-nbextensions==0.5.3) (2.8.1)\n",
      "Requirement already satisfied: pandocfilters>=1.4.1 in c:\\users\\gamze\\anaconda3\\lib\\site-packages (from nbconvert>=6.0->jupyter-contrib-nbextensions==0.5.3) (1.4.3)\n",
      "Requirement already satisfied: nbformat>=4.4 in c:\\users\\gamze\\anaconda3\\lib\\site-packages (from nbconvert>=6.0->jupyter-contrib-nbextensions==0.5.3) (5.1.3)\n",
      "Requirement already satisfied: mistune<2,>=0.8.1 in c:\\users\\gamze\\anaconda3\\lib\\site-packages (from nbconvert>=6.0->jupyter-contrib-nbextensions==0.5.3) (0.8.4)\n",
      "Requirement already satisfied: entrypoints>=0.2.2 in c:\\users\\gamze\\anaconda3\\lib\\site-packages (from nbconvert>=6.0->jupyter-contrib-nbextensions==0.5.3) (0.3)\n",
      "Requirement already satisfied: jupyterlab-pygments in c:\\users\\gamze\\anaconda3\\lib\\site-packages (from nbconvert>=6.0->jupyter-contrib-nbextensions==0.5.3) (0.1.2)\n",
      "Requirement already satisfied: defusedxml in c:\\users\\gamze\\anaconda3\\lib\\site-packages (from nbconvert>=6.0->jupyter-contrib-nbextensions==0.5.3) (0.7.1)\n",
      "Requirement already satisfied: bleach in c:\\users\\gamze\\anaconda3\\lib\\site-packages (from nbconvert>=6.0->jupyter-contrib-nbextensions==0.5.3) (3.3.0)\n",
      "Requirement already satisfied: testpath in c:\\users\\gamze\\anaconda3\\lib\\site-packages (from nbconvert>=6.0->jupyter-contrib-nbextensions==0.5.3) (0.4.4)\n",
      "Requirement already satisfied: nbclient<0.6.0,>=0.5.0 in c:\\users\\gamze\\anaconda3\\lib\\site-packages (from nbconvert>=6.0->jupyter-contrib-nbextensions==0.5.3) (0.5.3)\n",
      "Requirement already satisfied: MarkupSafe>=0.23 in c:\\users\\gamze\\anaconda3\\lib\\site-packages (from jinja2>=2.4->nbconvert>=6.0->jupyter-contrib-nbextensions==0.5.3) (1.1.1)\n",
      "Requirement already satisfied: nest-asyncio in c:\\users\\gamze\\anaconda3\\lib\\site-packages (from nbclient<0.6.0,>=0.5.0->nbconvert>=6.0->jupyter-contrib-nbextensions==0.5.3) (1.5.1)\n",
      "Requirement already satisfied: jupyter-client>=6.1.5 in c:\\users\\gamze\\anaconda3\\lib\\site-packages (from nbclient<0.6.0,>=0.5.0->nbconvert>=6.0->jupyter-contrib-nbextensions==0.5.3) (6.1.12)\n",
      "Requirement already satisfied: async-generator in c:\\users\\gamze\\anaconda3\\lib\\site-packages (from nbclient<0.6.0,>=0.5.0->nbconvert>=6.0->jupyter-contrib-nbextensions==0.5.3) (1.10)\n",
      "Requirement already satisfied: python-dateutil>=2.1 in c:\\users\\gamze\\anaconda3\\lib\\site-packages (from jupyter-client>=6.1.5->nbclient<0.6.0,>=0.5.0->nbconvert>=6.0->jupyter-contrib-nbextensions==0.5.3) (2.8.1)\n",
      "Requirement already satisfied: pyzmq>=13 in c:\\users\\gamze\\anaconda3\\lib\\site-packages (from jupyter-client>=6.1.5->nbclient<0.6.0,>=0.5.0->nbconvert>=6.0->jupyter-contrib-nbextensions==0.5.3) (20.0.0)\n",
      "Requirement already satisfied: pywin32>=1.0 in c:\\users\\gamze\\anaconda3\\lib\\site-packages (from jupyter_core->jupyter-contrib-nbextensions==0.5.3) (227)\n",
      "Requirement already satisfied: jsonschema!=2.5.0,>=2.4 in c:\\users\\gamze\\anaconda3\\lib\\site-packages (from nbformat>=4.4->nbconvert>=6.0->jupyter-contrib-nbextensions==0.5.3) (3.2.0)\n",
      "Requirement already satisfied: six>=1.11.0 in c:\\users\\gamze\\anaconda3\\lib\\site-packages (from jsonschema!=2.5.0,>=2.4->nbformat>=4.4->nbconvert>=6.0->jupyter-contrib-nbextensions==0.5.3) (1.15.0)\n",
      "Requirement already satisfied: pyrsistent>=0.14.0 in c:\\users\\gamze\\anaconda3\\lib\\site-packages (from jsonschema!=2.5.0,>=2.4->nbformat>=4.4->nbconvert>=6.0->jupyter-contrib-nbextensions==0.5.3) (0.17.3)\n",
      "Requirement already satisfied: attrs>=17.4.0 in c:\\users\\gamze\\anaconda3\\lib\\site-packages (from jsonschema!=2.5.0,>=2.4->nbformat>=4.4->nbconvert>=6.0->jupyter-contrib-nbextensions==0.5.3) (20.3.0)\n",
      "Requirement already satisfied: ipykernel in c:\\users\\gamze\\anaconda3\\lib\\site-packages (from notebook>=6.0->jupyter-contrib-nbextensions==0.5.3) (5.3.4)\n",
      "Requirement already satisfied: terminado>=0.8.3 in c:\\users\\gamze\\anaconda3\\lib\\site-packages (from notebook>=6.0->jupyter-contrib-nbextensions==0.5.3) (0.9.4)\n",
      "Requirement already satisfied: prometheus-client in c:\\users\\gamze\\anaconda3\\lib\\site-packages (from notebook>=6.0->jupyter-contrib-nbextensions==0.5.3) (0.10.1)\n",
      "Requirement already satisfied: Send2Trash>=1.5.0 in c:\\users\\gamze\\anaconda3\\lib\\site-packages (from notebook>=6.0->jupyter-contrib-nbextensions==0.5.3) (1.5.0)\n",
      "Requirement already satisfied: argon2-cffi in c:\\users\\gamze\\anaconda3\\lib\\site-packages (from notebook>=6.0->jupyter-contrib-nbextensions==0.5.3) (20.1.0)\n",
      "Requirement already satisfied: pywinpty>=0.5 in c:\\users\\gamze\\anaconda3\\lib\\site-packages (from terminado>=0.8.3->notebook>=6.0->jupyter-contrib-nbextensions==0.5.3) (0.5.7)\n",
      "Requirement already satisfied: cffi>=1.0.0 in c:\\users\\gamze\\anaconda3\\lib\\site-packages (from argon2-cffi->notebook>=6.0->jupyter-contrib-nbextensions==0.5.3) (1.14.5)\n",
      "Requirement already satisfied: pycparser in c:\\users\\gamze\\anaconda3\\lib\\site-packages (from cffi>=1.0.0->argon2-cffi->notebook>=6.0->jupyter-contrib-nbextensions==0.5.3) (2.20)\n",
      "Requirement already satisfied: webencodings in c:\\users\\gamze\\anaconda3\\lib\\site-packages (from bleach->nbconvert>=6.0->jupyter-contrib-nbextensions==0.5.3) (0.5.1)\n",
      "Requirement already satisfied: packaging in c:\\users\\gamze\\anaconda3\\lib\\site-packages (from bleach->nbconvert>=6.0->jupyter-contrib-nbextensions==0.5.3) (20.9)\n",
      "Requirement already satisfied: prompt-toolkit!=3.0.0,!=3.0.1,<3.1.0,>=2.0.0 in c:\\users\\gamze\\anaconda3\\lib\\site-packages (from ipython->jupyter_latex_envs>=1.4.0->jupyter-contrib-nbextensions==0.5.3) (3.0.17)\n",
      "Requirement already satisfied: decorator in c:\\users\\gamze\\anaconda3\\lib\\site-packages (from ipython->jupyter_latex_envs>=1.4.0->jupyter-contrib-nbextensions==0.5.3) (5.0.6)\n",
      "Requirement already satisfied: pickleshare in c:\\users\\gamze\\anaconda3\\lib\\site-packages (from ipython->jupyter_latex_envs>=1.4.0->jupyter-contrib-nbextensions==0.5.3) (0.7.5)\n",
      "Requirement already satisfied: jedi>=0.16 in c:\\users\\gamze\\anaconda3\\lib\\site-packages (from ipython->jupyter_latex_envs>=1.4.0->jupyter-contrib-nbextensions==0.5.3) (0.17.2)\n",
      "Requirement already satisfied: colorama in c:\\users\\gamze\\anaconda3\\lib\\site-packages (from ipython->jupyter_latex_envs>=1.4.0->jupyter-contrib-nbextensions==0.5.3) (0.4.4)\n",
      "Requirement already satisfied: backcall in c:\\users\\gamze\\anaconda3\\lib\\site-packages (from ipython->jupyter_latex_envs>=1.4.0->jupyter-contrib-nbextensions==0.5.3) (0.2.0)\n",
      "Requirement already satisfied: parso<0.8.0,>=0.7.0 in c:\\users\\gamze\\anaconda3\\lib\\site-packages (from jedi>=0.16->ipython->jupyter_latex_envs>=1.4.0->jupyter-contrib-nbextensions==0.5.3) (0.7.0)\n",
      "Requirement already satisfied: wcwidth in c:\\users\\gamze\\anaconda3\\lib\\site-packages (from prompt-toolkit!=3.0.0,!=3.0.1,<3.1.0,>=2.0.0->ipython->jupyter_latex_envs>=1.4.0->jupyter-contrib-nbextensions==0.5.3) (0.2.5)\n",
      "Requirement already satisfied: pyparsing>=2.0.2 in c:\\users\\gamze\\anaconda3\\lib\\site-packages (from packaging->bleach->nbconvert>=6.0->jupyter-contrib-nbextensions==0.5.3) (2.4.7)\n",
      "Building wheels for collected packages: jupyter-contrib-nbextensions\n",
      "  Building wheel for jupyter-contrib-nbextensions (setup.py): started\n",
      "  Building wheel for jupyter-contrib-nbextensions (setup.py): finished with status 'done'\n",
      "  Created wheel for jupyter-contrib-nbextensions: filename=jupyter_contrib_nbextensions-0.5.3-py2.py3-none-any.whl size=23430522 sha256=e588b8fbad64eb1a82b48f4f67ef9d94e3a07fcecd658af44a85d8e409602caa\n",
      "  Stored in directory: C:\\Users\\gamze\\AppData\\Local\\Temp\\pip-ephem-wheel-cache-7bz_3jul\\wheels\\99\\83\\3a\\b0286883fdb58ca563ced4057b233e5389fd8b6b7ae87fcdd9\n",
      "Successfully built jupyter-contrib-nbextensions\n",
      "Installing collected packages: jupyter-contrib-nbextensions\n",
      "  Attempting uninstall: jupyter-contrib-nbextensions\n",
      "    Found existing installation: jupyter-contrib-nbextensions 0.5.1\n",
      "    Uninstalling jupyter-contrib-nbextensions-0.5.1:\n",
      "      Successfully uninstalled jupyter-contrib-nbextensions-0.5.1\n",
      "Successfully installed jupyter-contrib-nbextensions-0.5.3\n",
      "Note: you may need to restart the kernel to use updated packages.\n"
     ]
    }
   ],
   "source": [
    "pip install https://github.com/ipython-contrib/jupyter_contrib_nbextensions/tarball/master\n"
   ]
  },
  {
   "cell_type": "code",
   "execution_count": null,
   "id": "edc7c98c",
   "metadata": {},
   "outputs": [],
   "source": []
  },
  {
   "cell_type": "markdown",
   "id": "702fc477-6ccc-46f0-b5b3-f9e8814ae962",
   "metadata": {},
   "source": [
    "# Data Preparation"
   ]
  },
  {
   "cell_type": "code",
   "execution_count": 3,
   "id": "bd2449c8",
   "metadata": {},
   "outputs": [
    {
     "data": {
      "text/html": [
       "<div>\n",
       "<style scoped>\n",
       "    .dataframe tbody tr th:only-of-type {\n",
       "        vertical-align: middle;\n",
       "    }\n",
       "\n",
       "    .dataframe tbody tr th {\n",
       "        vertical-align: top;\n",
       "    }\n",
       "\n",
       "    .dataframe thead th {\n",
       "        text-align: right;\n",
       "    }\n",
       "</style>\n",
       "<table border=\"1\" class=\"dataframe\">\n",
       "  <thead>\n",
       "    <tr style=\"text-align: right;\">\n",
       "      <th></th>\n",
       "      <th>Pregnancies</th>\n",
       "      <th>Glucose</th>\n",
       "      <th>BloodPressure</th>\n",
       "      <th>SkinThickness</th>\n",
       "      <th>Insulin</th>\n",
       "      <th>BMI</th>\n",
       "      <th>DiabetesPedigreeFunction</th>\n",
       "      <th>Age</th>\n",
       "      <th>Outcome</th>\n",
       "    </tr>\n",
       "  </thead>\n",
       "  <tbody>\n",
       "    <tr>\n",
       "      <th>0</th>\n",
       "      <td>6</td>\n",
       "      <td>148</td>\n",
       "      <td>72</td>\n",
       "      <td>35</td>\n",
       "      <td>0</td>\n",
       "      <td>33.600</td>\n",
       "      <td>627.000</td>\n",
       "      <td>50</td>\n",
       "      <td>1</td>\n",
       "    </tr>\n",
       "    <tr>\n",
       "      <th>1</th>\n",
       "      <td>1</td>\n",
       "      <td>85</td>\n",
       "      <td>66</td>\n",
       "      <td>29</td>\n",
       "      <td>0</td>\n",
       "      <td>26.600</td>\n",
       "      <td>351.000</td>\n",
       "      <td>31</td>\n",
       "      <td>0</td>\n",
       "    </tr>\n",
       "    <tr>\n",
       "      <th>2</th>\n",
       "      <td>8</td>\n",
       "      <td>183</td>\n",
       "      <td>64</td>\n",
       "      <td>0</td>\n",
       "      <td>0</td>\n",
       "      <td>23.300</td>\n",
       "      <td>672.000</td>\n",
       "      <td>32</td>\n",
       "      <td>1</td>\n",
       "    </tr>\n",
       "    <tr>\n",
       "      <th>3</th>\n",
       "      <td>1</td>\n",
       "      <td>89</td>\n",
       "      <td>66</td>\n",
       "      <td>23</td>\n",
       "      <td>94</td>\n",
       "      <td>28.100</td>\n",
       "      <td>167.000</td>\n",
       "      <td>21</td>\n",
       "      <td>0</td>\n",
       "    </tr>\n",
       "    <tr>\n",
       "      <th>4</th>\n",
       "      <td>0</td>\n",
       "      <td>137</td>\n",
       "      <td>40</td>\n",
       "      <td>35</td>\n",
       "      <td>168</td>\n",
       "      <td>43.100</td>\n",
       "      <td>2.288</td>\n",
       "      <td>33</td>\n",
       "      <td>1</td>\n",
       "    </tr>\n",
       "  </tbody>\n",
       "</table>\n",
       "</div>"
      ],
      "text/plain": [
       "   Pregnancies  Glucose  BloodPressure  SkinThickness  Insulin    BMI  \\\n",
       "0            6      148             72             35        0 33.600   \n",
       "1            1       85             66             29        0 26.600   \n",
       "2            8      183             64              0        0 23.300   \n",
       "3            1       89             66             23       94 28.100   \n",
       "4            0      137             40             35      168 43.100   \n",
       "\n",
       "   DiabetesPedigreeFunction  Age  Outcome  \n",
       "0                   627.000   50        1  \n",
       "1                   351.000   31        0  \n",
       "2                   672.000   32        1  \n",
       "3                   167.000   21        0  \n",
       "4                     2.288   33        1  "
      ]
     },
     "execution_count": 3,
     "metadata": {},
     "output_type": "execute_result"
    }
   ],
   "source": [
    "data.head()"
   ]
  },
  {
   "cell_type": "code",
   "execution_count": 4,
   "id": "51cefbfc",
   "metadata": {},
   "outputs": [
    {
     "data": {
      "text/html": [
       "<div>\n",
       "<style scoped>\n",
       "    .dataframe tbody tr th:only-of-type {\n",
       "        vertical-align: middle;\n",
       "    }\n",
       "\n",
       "    .dataframe tbody tr th {\n",
       "        vertical-align: top;\n",
       "    }\n",
       "\n",
       "    .dataframe thead th {\n",
       "        text-align: right;\n",
       "    }\n",
       "</style>\n",
       "<table border=\"1\" class=\"dataframe\">\n",
       "  <thead>\n",
       "    <tr style=\"text-align: right;\">\n",
       "      <th></th>\n",
       "      <th>Pregnancies</th>\n",
       "      <th>Glucose</th>\n",
       "      <th>BloodPressure</th>\n",
       "      <th>SkinThickness</th>\n",
       "      <th>Insulin</th>\n",
       "      <th>BMI</th>\n",
       "      <th>DiabetesPedigreeFunction</th>\n",
       "      <th>Age</th>\n",
       "      <th>Outcome</th>\n",
       "    </tr>\n",
       "  </thead>\n",
       "  <tbody>\n",
       "    <tr>\n",
       "      <th>763</th>\n",
       "      <td>10</td>\n",
       "      <td>101</td>\n",
       "      <td>76</td>\n",
       "      <td>48</td>\n",
       "      <td>180</td>\n",
       "      <td>32.900</td>\n",
       "      <td>171.000</td>\n",
       "      <td>63</td>\n",
       "      <td>0</td>\n",
       "    </tr>\n",
       "    <tr>\n",
       "      <th>764</th>\n",
       "      <td>2</td>\n",
       "      <td>122</td>\n",
       "      <td>70</td>\n",
       "      <td>27</td>\n",
       "      <td>0</td>\n",
       "      <td>36.800</td>\n",
       "      <td>0.340</td>\n",
       "      <td>27</td>\n",
       "      <td>0</td>\n",
       "    </tr>\n",
       "    <tr>\n",
       "      <th>765</th>\n",
       "      <td>5</td>\n",
       "      <td>121</td>\n",
       "      <td>72</td>\n",
       "      <td>23</td>\n",
       "      <td>112</td>\n",
       "      <td>26.200</td>\n",
       "      <td>245.000</td>\n",
       "      <td>30</td>\n",
       "      <td>0</td>\n",
       "    </tr>\n",
       "    <tr>\n",
       "      <th>766</th>\n",
       "      <td>1</td>\n",
       "      <td>126</td>\n",
       "      <td>60</td>\n",
       "      <td>0</td>\n",
       "      <td>0</td>\n",
       "      <td>30.100</td>\n",
       "      <td>349.000</td>\n",
       "      <td>47</td>\n",
       "      <td>1</td>\n",
       "    </tr>\n",
       "    <tr>\n",
       "      <th>767</th>\n",
       "      <td>1</td>\n",
       "      <td>93</td>\n",
       "      <td>70</td>\n",
       "      <td>31</td>\n",
       "      <td>0</td>\n",
       "      <td>30.400</td>\n",
       "      <td>315.000</td>\n",
       "      <td>23</td>\n",
       "      <td>0</td>\n",
       "    </tr>\n",
       "  </tbody>\n",
       "</table>\n",
       "</div>"
      ],
      "text/plain": [
       "     Pregnancies  Glucose  BloodPressure  SkinThickness  Insulin    BMI  \\\n",
       "763           10      101             76             48      180 32.900   \n",
       "764            2      122             70             27        0 36.800   \n",
       "765            5      121             72             23      112 26.200   \n",
       "766            1      126             60              0        0 30.100   \n",
       "767            1       93             70             31        0 30.400   \n",
       "\n",
       "     DiabetesPedigreeFunction  Age  Outcome  \n",
       "763                   171.000   63        0  \n",
       "764                     0.340   27        0  \n",
       "765                   245.000   30        0  \n",
       "766                   349.000   47        1  \n",
       "767                   315.000   23        0  "
      ]
     },
     "execution_count": 4,
     "metadata": {},
     "output_type": "execute_result"
    }
   ],
   "source": [
    "data.tail()"
   ]
  },
  {
   "cell_type": "code",
   "execution_count": 5,
   "id": "3feed28f",
   "metadata": {},
   "outputs": [
    {
     "data": {
      "text/plain": [
       "(768, 9)"
      ]
     },
     "execution_count": 5,
     "metadata": {},
     "output_type": "execute_result"
    }
   ],
   "source": [
    "data.shape"
   ]
  },
  {
   "cell_type": "code",
   "execution_count": 6,
   "id": "54551db2",
   "metadata": {},
   "outputs": [
    {
     "name": "stdout",
     "output_type": "stream",
     "text": [
      "<class 'pandas.core.frame.DataFrame'>\n",
      "RangeIndex: 768 entries, 0 to 767\n",
      "Data columns (total 9 columns):\n",
      " #   Column                    Non-Null Count  Dtype  \n",
      "---  ------                    --------------  -----  \n",
      " 0   Pregnancies               768 non-null    int64  \n",
      " 1   Glucose                   768 non-null    int64  \n",
      " 2   BloodPressure             768 non-null    int64  \n",
      " 3   SkinThickness             768 non-null    int64  \n",
      " 4   Insulin                   768 non-null    int64  \n",
      " 5   BMI                       768 non-null    float64\n",
      " 6   DiabetesPedigreeFunction  768 non-null    float64\n",
      " 7   Age                       768 non-null    int64  \n",
      " 8   Outcome                   768 non-null    int64  \n",
      "dtypes: float64(2), int64(7)\n",
      "memory usage: 54.1 KB\n"
     ]
    }
   ],
   "source": [
    "data.info()"
   ]
  },
  {
   "cell_type": "code",
   "execution_count": 7,
   "id": "2a7a8970",
   "metadata": {},
   "outputs": [
    {
     "data": {
      "text/html": [
       "<div>\n",
       "<style scoped>\n",
       "    .dataframe tbody tr th:only-of-type {\n",
       "        vertical-align: middle;\n",
       "    }\n",
       "\n",
       "    .dataframe tbody tr th {\n",
       "        vertical-align: top;\n",
       "    }\n",
       "\n",
       "    .dataframe thead th {\n",
       "        text-align: right;\n",
       "    }\n",
       "</style>\n",
       "<table border=\"1\" class=\"dataframe\">\n",
       "  <thead>\n",
       "    <tr style=\"text-align: right;\">\n",
       "      <th></th>\n",
       "      <th>Pregnancies</th>\n",
       "      <th>Glucose</th>\n",
       "      <th>BloodPressure</th>\n",
       "      <th>SkinThickness</th>\n",
       "      <th>Insulin</th>\n",
       "      <th>BMI</th>\n",
       "      <th>DiabetesPedigreeFunction</th>\n",
       "      <th>Age</th>\n",
       "      <th>Outcome</th>\n",
       "    </tr>\n",
       "  </thead>\n",
       "  <tbody>\n",
       "    <tr>\n",
       "      <th>count</th>\n",
       "      <td>768.000</td>\n",
       "      <td>768.000</td>\n",
       "      <td>768.000</td>\n",
       "      <td>768.000</td>\n",
       "      <td>768.000</td>\n",
       "      <td>768.000</td>\n",
       "      <td>768.000</td>\n",
       "      <td>768.000</td>\n",
       "      <td>768.000</td>\n",
       "    </tr>\n",
       "    <tr>\n",
       "      <th>mean</th>\n",
       "      <td>3.845</td>\n",
       "      <td>120.895</td>\n",
       "      <td>69.105</td>\n",
       "      <td>20.536</td>\n",
       "      <td>79.799</td>\n",
       "      <td>31.993</td>\n",
       "      <td>347.079</td>\n",
       "      <td>33.241</td>\n",
       "      <td>0.349</td>\n",
       "    </tr>\n",
       "    <tr>\n",
       "      <th>std</th>\n",
       "      <td>3.370</td>\n",
       "      <td>31.973</td>\n",
       "      <td>19.356</td>\n",
       "      <td>15.952</td>\n",
       "      <td>115.244</td>\n",
       "      <td>7.884</td>\n",
       "      <td>254.432</td>\n",
       "      <td>11.760</td>\n",
       "      <td>0.477</td>\n",
       "    </tr>\n",
       "    <tr>\n",
       "      <th>min</th>\n",
       "      <td>0.000</td>\n",
       "      <td>0.000</td>\n",
       "      <td>0.000</td>\n",
       "      <td>0.000</td>\n",
       "      <td>0.000</td>\n",
       "      <td>0.000</td>\n",
       "      <td>0.100</td>\n",
       "      <td>21.000</td>\n",
       "      <td>0.000</td>\n",
       "    </tr>\n",
       "    <tr>\n",
       "      <th>25%</th>\n",
       "      <td>1.000</td>\n",
       "      <td>99.000</td>\n",
       "      <td>62.000</td>\n",
       "      <td>0.000</td>\n",
       "      <td>0.000</td>\n",
       "      <td>27.300</td>\n",
       "      <td>165.000</td>\n",
       "      <td>24.000</td>\n",
       "      <td>0.000</td>\n",
       "    </tr>\n",
       "    <tr>\n",
       "      <th>50%</th>\n",
       "      <td>3.000</td>\n",
       "      <td>117.000</td>\n",
       "      <td>72.000</td>\n",
       "      <td>23.000</td>\n",
       "      <td>30.500</td>\n",
       "      <td>32.000</td>\n",
       "      <td>295.500</td>\n",
       "      <td>29.000</td>\n",
       "      <td>0.000</td>\n",
       "    </tr>\n",
       "    <tr>\n",
       "      <th>75%</th>\n",
       "      <td>6.000</td>\n",
       "      <td>140.250</td>\n",
       "      <td>80.000</td>\n",
       "      <td>32.000</td>\n",
       "      <td>127.250</td>\n",
       "      <td>36.600</td>\n",
       "      <td>527.250</td>\n",
       "      <td>41.000</td>\n",
       "      <td>1.000</td>\n",
       "    </tr>\n",
       "    <tr>\n",
       "      <th>max</th>\n",
       "      <td>17.000</td>\n",
       "      <td>199.000</td>\n",
       "      <td>122.000</td>\n",
       "      <td>99.000</td>\n",
       "      <td>846.000</td>\n",
       "      <td>67.100</td>\n",
       "      <td>997.000</td>\n",
       "      <td>81.000</td>\n",
       "      <td>1.000</td>\n",
       "    </tr>\n",
       "  </tbody>\n",
       "</table>\n",
       "</div>"
      ],
      "text/plain": [
       "       Pregnancies  Glucose  BloodPressure  SkinThickness  Insulin     BMI  \\\n",
       "count      768.000  768.000        768.000        768.000  768.000 768.000   \n",
       "mean         3.845  120.895         69.105         20.536   79.799  31.993   \n",
       "std          3.370   31.973         19.356         15.952  115.244   7.884   \n",
       "min          0.000    0.000          0.000          0.000    0.000   0.000   \n",
       "25%          1.000   99.000         62.000          0.000    0.000  27.300   \n",
       "50%          3.000  117.000         72.000         23.000   30.500  32.000   \n",
       "75%          6.000  140.250         80.000         32.000  127.250  36.600   \n",
       "max         17.000  199.000        122.000         99.000  846.000  67.100   \n",
       "\n",
       "       DiabetesPedigreeFunction     Age  Outcome  \n",
       "count                   768.000 768.000  768.000  \n",
       "mean                    347.079  33.241    0.349  \n",
       "std                     254.432  11.760    0.477  \n",
       "min                       0.100  21.000    0.000  \n",
       "25%                     165.000  24.000    0.000  \n",
       "50%                     295.500  29.000    0.000  \n",
       "75%                     527.250  41.000    1.000  \n",
       "max                     997.000  81.000    1.000  "
      ]
     },
     "execution_count": 7,
     "metadata": {},
     "output_type": "execute_result"
    }
   ],
   "source": [
    "data.describe()"
   ]
  },
  {
   "cell_type": "code",
   "execution_count": null,
   "id": "8fd40508",
   "metadata": {},
   "outputs": [],
   "source": []
  },
  {
   "cell_type": "markdown",
   "id": "f2a36600-600d-4f9a-9581-54f7a7aa5c50",
   "metadata": {},
   "source": [
    "# Visulazations"
   ]
  },
  {
   "cell_type": "code",
   "execution_count": 8,
   "id": "85cdd83d",
   "metadata": {},
   "outputs": [],
   "source": [
    "# target value = outcome"
   ]
  },
  {
   "cell_type": "code",
   "execution_count": 9,
   "id": "c1145301",
   "metadata": {},
   "outputs": [
    {
     "data": {
      "text/plain": [
       "0    500\n",
       "1    268\n",
       "Name: Outcome, dtype: int64"
      ]
     },
     "execution_count": 9,
     "metadata": {},
     "output_type": "execute_result"
    }
   ],
   "source": [
    "data.Outcome.value_counts()"
   ]
  },
  {
   "cell_type": "code",
   "execution_count": 10,
   "id": "3fc12290",
   "metadata": {},
   "outputs": [
    {
     "data": {
      "image/png": "[encoded data removed]",
      "text/plain": [
       "<Figure size 720x432 with 1 Axes>"
      ]
     },
     "metadata": {},
     "output_type": "display_data"
    }
   ],
   "source": [
    "colors = [\"green\", \"red\"]\n",
    "sns.countplot(data.Outcome, palette= colors)\n",
    "plt.show()"
   ]
  },
  {
   "cell_type": "code",
   "execution_count": 11,
   "id": "81bd45b7",
   "metadata": {},
   "outputs": [],
   "source": [
    "D = data[data.Outcome == 1]  ##diabetes\n",
    "N = data[data.Outcome == 0]  ## not diabetes"
   ]
  },
  {
   "cell_type": "code",
   "execution_count": 12,
   "id": "15daf616",
   "metadata": {},
   "outputs": [
    {
     "data": {
      "image/png": "[encoded data removed]",
      "text/plain": [
       "<Figure size 720x504 with 1 Axes>"
      ]
     },
     "metadata": {},
     "output_type": "display_data"
    }
   ],
   "source": [
    "plt.figure(figsize=(10,7))\n",
    "plt.scatter(D.Glucose, D.Insulin, color= \"red\", label= \"diabetes\")\n",
    "plt.scatter(N.Glucose, N.Insulin, color= \"green\", label= \"no diabetes\")\n",
    "plt.xlabel(\"Glucose\")\n",
    "plt.ylabel(\"Insulin\")\n",
    "plt.legend()\n",
    "plt.show()"
   ]
  },
  {
   "cell_type": "code",
   "execution_count": 13,
   "id": "c47bcfac",
   "metadata": {},
   "outputs": [
    {
     "data": {
      "image/png": "[encoded data removed]",
      "text/plain": [
       "<Figure size 504x504 with 1 Axes>"
      ]
     },
     "metadata": {},
     "output_type": "display_data"
    }
   ],
   "source": [
    "labels = data.Outcome.value_counts().index\n",
    "explode = [0, 0]\n",
    "sizes = data.Outcome.value_counts().values\n",
    "\n",
    "# visual\n",
    "plt.figure(figsize= (7, 7))\n",
    "plt.pie(sizes, explode= explode, labels= labels, autopct = \"%1.1f%%\")\n",
    "plt.title(\"Percentage of diabetes \\n  1: Diabetes, 0 : Not Diabetes\", color = \"blue\", fontsize = 15)\n",
    "plt.show()"
   ]
  },
  {
   "cell_type": "markdown",
   "id": "d8d33e28-a8ec-4913-832f-ade23d780a55",
   "metadata": {},
   "source": [
    "# Statistical Analysis"
   ]
  },
  {
   "cell_type": "code",
   "execution_count": 14,
   "id": "a19eaaf7",
   "metadata": {},
   "outputs": [
    {
     "data": {
      "text/plain": [
       "Glucose                    0.467\n",
       "BMI                        0.293\n",
       "Age                        0.238\n",
       "Pregnancies                0.222\n",
       "Insulin                    0.131\n",
       "DiabetesPedigreeFunction   0.092\n",
       "SkinThickness              0.075\n",
       "BloodPressure              0.065\n",
       "Name: Outcome, dtype: float64"
      ]
     },
     "execution_count": 14,
     "metadata": {},
     "output_type": "execute_result"
    }
   ],
   "source": [
    "data.corr()['Outcome'].drop('Outcome').sort_values(ascending=False)"
   ]
  },
  {
   "cell_type": "markdown",
   "id": "22f9cff7-63d2-485f-b8a0-3a40887c46e2",
   "metadata": {},
   "source": [
    "# Determine Dependent and Independent Variables"
   ]
  },
  {
   "cell_type": "code",
   "execution_count": 15,
   "id": "de08e618",
   "metadata": {},
   "outputs": [],
   "source": [
    "y = data.Outcome\n",
    "X = data.drop(columns = \"Outcome\")"
   ]
  },
  {
   "cell_type": "markdown",
   "id": "cdfa8a07-1bde-49aa-b32c-0542e1b228c5",
   "metadata": {},
   "source": [
    "# Scaling the Data"
   ]
  },
  {
   "cell_type": "code",
   "execution_count": 16,
   "id": "03cef5b5",
   "metadata": {},
   "outputs": [],
   "source": [
    "from sklearn.preprocessing import StandardScaler"
   ]
  },
  {
   "cell_type": "code",
   "execution_count": 17,
   "id": "15066f30",
   "metadata": {},
   "outputs": [],
   "source": [
    "scaler = StandardScaler()"
   ]
  },
  {
   "cell_type": "code",
   "execution_count": 18,
   "id": "bbbc007d",
   "metadata": {},
   "outputs": [],
   "source": [
    "X = scaler.fit_transform(X)"
   ]
  },
  {
   "cell_type": "markdown",
   "id": "66751c51-7a21-4310-84ae-a7f1512370a7",
   "metadata": {},
   "source": [
    "# Train - Test Split"
   ]
  },
  {
   "cell_type": "code",
   "execution_count": 19,
   "id": "89a831c5",
   "metadata": {},
   "outputs": [],
   "source": [
    "from sklearn.model_selection import train_test_split\n",
    "X_train, X_test, y_train, y_test = train_test_split(X, y, test_size= 0.2, random_state= 101)"
   ]
  },
  {
   "cell_type": "markdown",
   "id": "09b69349-84e3-4306-8832-37fcf0d2b037",
   "metadata": {},
   "source": [
    "## Model Fitting and Compare Actual and Predicted Labels"
   ]
  },
  {
   "cell_type": "code",
   "execution_count": 20,
   "id": "f9f482a7",
   "metadata": {},
   "outputs": [
    {
     "data": {
      "text/plain": [
       "LogisticRegression()"
      ]
     },
     "execution_count": 20,
     "metadata": {},
     "output_type": "execute_result"
    }
   ],
   "source": [
    "from sklearn.linear_model import LogisticRegression\n",
    "log_model = LogisticRegression()\n",
    "log_model.fit(X_train, y_train)"
   ]
  },
  {
   "cell_type": "code",
   "execution_count": 21,
   "id": "e96d69ec",
   "metadata": {},
   "outputs": [],
   "source": [
    "y_pred = log_model.predict(X_test)\n",
    "y_train_pred = log_model.predict(X_train)"
   ]
  },
  {
   "cell_type": "markdown",
   "id": "2339687a-20f2-4b8c-bfff-ce9b79af3480",
   "metadata": {},
   "source": [
    "## Error Metrics"
   ]
  },
  {
   "cell_type": "code",
   "execution_count": 22,
   "id": "6a9d359c",
   "metadata": {},
   "outputs": [],
   "source": [
    "from sklearn.metrics import precision_score, recall_score, accuracy_score, f1_score"
   ]
  },
  {
   "cell_type": "markdown",
   "id": "bd10d310-e341-4324-a81d-febbf4ad637f",
   "metadata": {},
   "source": [
    "## Evaluate Model"
   ]
  },
  {
   "cell_type": "code",
   "execution_count": 23,
   "id": "70fac302",
   "metadata": {},
   "outputs": [
    {
     "data": {
      "text/plain": [
       "0.7727272727272727"
      ]
     },
     "execution_count": 23,
     "metadata": {},
     "output_type": "execute_result"
    }
   ],
   "source": [
    "accuracy_score(y_test, y_pred)"
   ]
  },
  {
   "cell_type": "code",
   "execution_count": 24,
   "id": "0656276e",
   "metadata": {},
   "outputs": [
    {
     "data": {
      "text/plain": [
       "0.7752442996742671"
      ]
     },
     "execution_count": 24,
     "metadata": {},
     "output_type": "execute_result"
    }
   ],
   "source": [
    "accuracy_score(y_train, y_train_pred)"
   ]
  },
  {
   "cell_type": "code",
   "execution_count": 25,
   "id": "af49415d",
   "metadata": {},
   "outputs": [
    {
     "data": {
      "text/plain": [
       "array([[86, 17],\n",
       "       [18, 33]], dtype=int64)"
      ]
     },
     "execution_count": 25,
     "metadata": {},
     "output_type": "execute_result"
    }
   ],
   "source": [
    "from sklearn.metrics import confusion_matrix\n",
    "confusion_matrix(y_test, y_pred)\n"
   ]
  },
  {
   "cell_type": "code",
   "execution_count": 26,
   "id": "f06cc03a",
   "metadata": {},
   "outputs": [
    {
     "data": {
      "text/plain": [
       "array([[350,  47],\n",
       "       [ 91, 126]], dtype=int64)"
      ]
     },
     "execution_count": 26,
     "metadata": {},
     "output_type": "execute_result"
    }
   ],
   "source": [
    "confusion_matrix(y_train, y_train_pred)"
   ]
  },
  {
   "cell_type": "code",
   "execution_count": 27,
   "id": "1c214c3c",
   "metadata": {},
   "outputs": [
    {
     "name": "stdout",
     "output_type": "stream",
     "text": [
      "              precision    recall  f1-score   support\n",
      "\n",
      "           0       0.83      0.83      0.83       103\n",
      "           1       0.66      0.65      0.65        51\n",
      "\n",
      "    accuracy                           0.77       154\n",
      "   macro avg       0.74      0.74      0.74       154\n",
      "weighted avg       0.77      0.77      0.77       154\n",
      "\n"
     ]
    }
   ],
   "source": [
    "from sklearn.metrics import classification_report\n",
    "print(classification_report(y_test, y_pred))"
   ]
  },
  {
   "cell_type": "code",
   "execution_count": 28,
   "id": "8daace21",
   "metadata": {},
   "outputs": [
    {
     "name": "stdout",
     "output_type": "stream",
     "text": [
      "              precision    recall  f1-score   support\n",
      "\n",
      "           0       0.79      0.88      0.84       397\n",
      "           1       0.73      0.58      0.65       217\n",
      "\n",
      "    accuracy                           0.78       614\n",
      "   macro avg       0.76      0.73      0.74       614\n",
      "weighted avg       0.77      0.78      0.77       614\n",
      "\n"
     ]
    }
   ],
   "source": [
    "print(classification_report(y_train, y_train_pred))"
   ]
  },
  {
   "cell_type": "code",
   "execution_count": 29,
   "id": "e03fd9f4",
   "metadata": {},
   "outputs": [],
   "source": [
    "logr_scores = {\"logr_train\": {\"accuracy\" : accuracy_score(y_train, y_train_pred),\n",
    "    \"precision_score\" : precision_score(y_train, y_train_pred),\n",
    "    \"recall_score\" : recall_score(y_train, y_train_pred),\n",
    "    \"f1_score\" : f1_score(y_train, y_train_pred, average = \"weighted\"),}, \n",
    "\n",
    "    \"logr_test\": {\"accuracy\" : accuracy_score(y_test, y_pred),\n",
    "    \"precision_score\" : precision_score(y_test, y_pred),\n",
    "    \"recall_score\" : recall_score(y_test, y_pred),\n",
    "    \"f1_score\" : f1_score(y_test, y_pred, average = \"weighted\")\n",
    "   }}\n",
    "logr =pd.DataFrame(logr_scores)"
   ]
  },
  {
   "cell_type": "code",
   "execution_count": 30,
   "id": "28b572c3",
   "metadata": {},
   "outputs": [
    {
     "data": {
      "text/html": [
       "<div>\n",
       "<style scoped>\n",
       "    .dataframe tbody tr th:only-of-type {\n",
       "        vertical-align: middle;\n",
       "    }\n",
       "\n",
       "    .dataframe tbody tr th {\n",
       "        vertical-align: top;\n",
       "    }\n",
       "\n",
       "    .dataframe thead th {\n",
       "        text-align: right;\n",
       "    }\n",
       "</style>\n",
       "<table border=\"1\" class=\"dataframe\">\n",
       "  <thead>\n",
       "    <tr style=\"text-align: right;\">\n",
       "      <th></th>\n",
       "      <th>logr_train</th>\n",
       "      <th>logr_test</th>\n",
       "    </tr>\n",
       "  </thead>\n",
       "  <tbody>\n",
       "    <tr>\n",
       "      <th>accuracy</th>\n",
       "      <td>0.775</td>\n",
       "      <td>0.773</td>\n",
       "    </tr>\n",
       "    <tr>\n",
       "      <th>precision_score</th>\n",
       "      <td>0.728</td>\n",
       "      <td>0.660</td>\n",
       "    </tr>\n",
       "    <tr>\n",
       "      <th>recall_score</th>\n",
       "      <td>0.581</td>\n",
       "      <td>0.647</td>\n",
       "    </tr>\n",
       "    <tr>\n",
       "      <th>f1_score</th>\n",
       "      <td>0.768</td>\n",
       "      <td>0.772</td>\n",
       "    </tr>\n",
       "  </tbody>\n",
       "</table>\n",
       "</div>"
      ],
      "text/plain": [
       "                 logr_train  logr_test\n",
       "accuracy              0.775      0.773\n",
       "precision_score       0.728      0.660\n",
       "recall_score          0.581      0.647\n",
       "f1_score              0.768      0.772"
      ]
     },
     "execution_count": 30,
     "metadata": {},
     "output_type": "execute_result"
    }
   ],
   "source": [
    "logr"
   ]
  },
  {
   "cell_type": "markdown",
   "id": "6192f2fd",
   "metadata": {},
   "source": [
    "\n",
    "# KNN_Classifier Model"
   ]
  },
  {
   "cell_type": "code",
   "execution_count": 31,
   "id": "f8125c81",
   "metadata": {},
   "outputs": [],
   "source": [
    "from sklearn.neighbors import KNeighborsClassifier"
   ]
  },
  {
   "cell_type": "code",
   "execution_count": 32,
   "id": "c2b1ab44",
   "metadata": {},
   "outputs": [],
   "source": [
    "knn_model = KNeighborsClassifier(n_neighbors= 3)"
   ]
  },
  {
   "cell_type": "code",
   "execution_count": 33,
   "id": "e8a774fd",
   "metadata": {},
   "outputs": [
    {
     "data": {
      "text/plain": [
       "KNeighborsClassifier(n_neighbors=3)"
      ]
     },
     "execution_count": 33,
     "metadata": {},
     "output_type": "execute_result"
    }
   ],
   "source": [
    "knn_model.fit(X_train, y_train)"
   ]
  },
  {
   "cell_type": "code",
   "execution_count": 34,
   "id": "9bca9243",
   "metadata": {},
   "outputs": [],
   "source": [
    "y_pred = knn_model.predict(X_test)\n",
    "y_train_pred = knn_model.predict(X_train)"
   ]
  },
  {
   "cell_type": "code",
   "execution_count": 35,
   "id": "88fc4dab",
   "metadata": {},
   "outputs": [
    {
     "data": {
      "text/plain": [
       "0.7662337662337663"
      ]
     },
     "execution_count": 35,
     "metadata": {},
     "output_type": "execute_result"
    }
   ],
   "source": [
    "accuracy_score(y_test, y_pred)"
   ]
  },
  {
   "cell_type": "code",
   "execution_count": 36,
   "id": "bdd33425",
   "metadata": {},
   "outputs": [
    {
     "data": {
      "text/plain": [
       "0.8273615635179153"
      ]
     },
     "execution_count": 36,
     "metadata": {},
     "output_type": "execute_result"
    }
   ],
   "source": [
    "accuracy_score(y_train, y_train_pred)"
   ]
  },
  {
   "cell_type": "code",
   "execution_count": 37,
   "id": "7f0cffa8",
   "metadata": {},
   "outputs": [],
   "source": [
    "test_error_rates = []\n",
    "for k in range(1, 30):\n",
    "    knn_model = KNeighborsClassifier(n_neighbors= k)\n",
    "    knn_model.fit(X_train, y_train)\n",
    "    \n",
    "    y_pred_test = knn_model.predict(X_test)\n",
    "    \n",
    "    test_error = 1 - accuracy_score(y_test, y_pred_test)\n",
    "    test_error_rates.append(test_error)"
   ]
  },
  {
   "cell_type": "code",
   "execution_count": 38,
   "id": "2127f7d0",
   "metadata": {},
   "outputs": [
    {
     "data": {
      "image/png": "[encoded data removed]",
      "text/plain": [
       "<Figure size 720x432 with 1 Axes>"
      ]
     },
     "metadata": {},
     "output_type": "display_data"
    }
   ],
   "source": [
    "plt.plot(range(1, 30), test_error_rates, color = \"blue\", linestyle = \"--\", marker = \"o\",\n",
    "         markerfacecolor= \"red\", markersize= 10)\n",
    "plt.title(\"Error Rate vs K-Values\")\n",
    "plt.xlabel(\"K_values for the basic model\")\n",
    "plt.ylabel(\"Error Rate\")\n",
    "plt.hlines(y= 0.05, xmin= 0, xmax= 30,colors = \"r\", linestyles= \"--\")\n",
    "plt.hlines(y= 0.06, xmin= 0, xmax= 30,colors = \"r\", linestyles= \"--\")\n",
    "plt.show()"
   ]
  },
  {
   "cell_type": "markdown",
   "id": "72288f4f",
   "metadata": {},
   "source": [
    "\n",
    "# Gridseach Method for Choosing Optimum K Value"
   ]
  },
  {
   "cell_type": "code",
   "execution_count": 39,
   "id": "0cd2d196",
   "metadata": {},
   "outputs": [],
   "source": [
    "from sklearn.model_selection import GridSearchCV\n",
    "knn_grid = KNeighborsClassifier()\n",
    "k_values = range(1, 30)\n",
    "param_grid = {\"n_neighbors\": k_values, \"weights\": [\"uniform\", \"distance\"]}"
   ]
  },
  {
   "cell_type": "code",
   "execution_count": 40,
   "id": "a4a13eb2",
   "metadata": {},
   "outputs": [],
   "source": [
    "knn_grid_model = GridSearchCV(knn_grid, param_grid, cv= 10, scoring = \"accuracy\")"
   ]
  },
  {
   "cell_type": "code",
   "execution_count": 41,
   "id": "b7a43909",
   "metadata": {},
   "outputs": [
    {
     "data": {
      "text/plain": [
       "GridSearchCV(cv=10, estimator=KNeighborsClassifier(),\n",
       "             param_grid={'n_neighbors': range(1, 30),\n",
       "                         'weights': ['uniform', 'distance']},\n",
       "             scoring='accuracy')"
      ]
     },
     "execution_count": 41,
     "metadata": {},
     "output_type": "execute_result"
    }
   ],
   "source": [
    "knn_grid_model.fit(X_train, y_train)"
   ]
  },
  {
   "cell_type": "code",
   "execution_count": 42,
   "id": "bfab4412",
   "metadata": {},
   "outputs": [
    {
     "data": {
      "text/plain": [
       "KNeighborsClassifier(n_neighbors=19, weights='distance')"
      ]
     },
     "execution_count": 42,
     "metadata": {},
     "output_type": "execute_result"
    }
   ],
   "source": [
    "knn_grid_model.best_estimator_    "
   ]
  },
  {
   "cell_type": "code",
   "execution_count": 43,
   "id": "6830d98c",
   "metadata": {},
   "outputs": [
    {
     "name": "stdout",
     "output_type": "stream",
     "text": [
      "With K = 21\n",
      "\n",
      "\n",
      "[[94  9]\n",
      " [25 26]]\n",
      "\n",
      "\n",
      "              precision    recall  f1-score   support\n",
      "\n",
      "           0       0.79      0.91      0.85       103\n",
      "           1       0.74      0.51      0.60        51\n",
      "\n",
      "    accuracy                           0.78       154\n",
      "   macro avg       0.77      0.71      0.73       154\n",
      "weighted avg       0.77      0.78      0.77       154\n",
      "\n"
     ]
    }
   ],
   "source": [
    "# With k = 21\n",
    "knn = KNeighborsClassifier(n_neighbors= 8)\n",
    "\n",
    "knn.fit(X_train, y_train)\n",
    "pred = knn.predict(X_test)\n",
    "\n",
    "print(\"With K = 21\")\n",
    "print(\"\\n\")\n",
    "print(confusion_matrix(y_test, pred))\n",
    "print(\"\\n\")\n",
    "print(classification_report(y_test, pred))"
   ]
  },
  {
   "cell_type": "code",
   "execution_count": 44,
   "id": "c8e7e83a",
   "metadata": {},
   "outputs": [],
   "source": [
    "knn_scores = {\"knn_train\": {\"accuracy\" : accuracy_score(y_train, y_train_pred),\n",
    "    \"precision_score\" : precision_score(y_train, y_train_pred),\n",
    "    \"recall_score\" : recall_score(y_train, y_train_pred),\n",
    "    \"f1_score\" : f1_score(y_train, y_train_pred, average = \"weighted\")}, \n",
    "\n",
    "    \"knn_test\": {\"accuracy\" : accuracy_score(y_test, y_pred),\n",
    "    \"precision_score\" : precision_score(y_test, y_pred),\n",
    "    \"recall_score\" : recall_score(y_test, y_pred),\n",
    "    \"f1_score\" : f1_score(y_test, y_pred, average = \"weighted\")}}\n",
    "knn =pd.DataFrame(knn_scores)"
   ]
  },
  {
   "cell_type": "code",
   "execution_count": 45,
   "id": "2bc6545c",
   "metadata": {},
   "outputs": [
    {
     "data": {
      "text/html": [
       "<div>\n",
       "<style scoped>\n",
       "    .dataframe tbody tr th:only-of-type {\n",
       "        vertical-align: middle;\n",
       "    }\n",
       "\n",
       "    .dataframe tbody tr th {\n",
       "        vertical-align: top;\n",
       "    }\n",
       "\n",
       "    .dataframe thead th {\n",
       "        text-align: right;\n",
       "    }\n",
       "</style>\n",
       "<table border=\"1\" class=\"dataframe\">\n",
       "  <thead>\n",
       "    <tr style=\"text-align: right;\">\n",
       "      <th></th>\n",
       "      <th>knn_train</th>\n",
       "      <th>knn_test</th>\n",
       "    </tr>\n",
       "  </thead>\n",
       "  <tbody>\n",
       "    <tr>\n",
       "      <th>accuracy</th>\n",
       "      <td>0.827</td>\n",
       "      <td>0.766</td>\n",
       "    </tr>\n",
       "    <tr>\n",
       "      <th>precision_score</th>\n",
       "      <td>0.779</td>\n",
       "      <td>0.683</td>\n",
       "    </tr>\n",
       "    <tr>\n",
       "      <th>recall_score</th>\n",
       "      <td>0.714</td>\n",
       "      <td>0.549</td>\n",
       "    </tr>\n",
       "    <tr>\n",
       "      <th>f1_score</th>\n",
       "      <td>0.826</td>\n",
       "      <td>0.759</td>\n",
       "    </tr>\n",
       "  </tbody>\n",
       "</table>\n",
       "</div>"
      ],
      "text/plain": [
       "                 knn_train  knn_test\n",
       "accuracy             0.827     0.766\n",
       "precision_score      0.779     0.683\n",
       "recall_score         0.714     0.549\n",
       "f1_score             0.826     0.759"
      ]
     },
     "execution_count": 45,
     "metadata": {},
     "output_type": "execute_result"
    }
   ],
   "source": [
    "knn"
   ]
  },
  {
   "cell_type": "markdown",
   "id": "808f38b1",
   "metadata": {},
   "source": [
    "# Comparison of 2 Models"
   ]
  },
  {
   "cell_type": "code",
   "execution_count": 46,
   "id": "3e2cb520",
   "metadata": {},
   "outputs": [
    {
     "data": {
      "text/html": [
       "<div>\n",
       "<style scoped>\n",
       "    .dataframe tbody tr th:only-of-type {\n",
       "        vertical-align: middle;\n",
       "    }\n",
       "\n",
       "    .dataframe tbody tr th {\n",
       "        vertical-align: top;\n",
       "    }\n",
       "\n",
       "    .dataframe thead th {\n",
       "        text-align: right;\n",
       "    }\n",
       "</style>\n",
       "<table border=\"1\" class=\"dataframe\">\n",
       "  <thead>\n",
       "    <tr style=\"text-align: right;\">\n",
       "      <th></th>\n",
       "      <th>logr_train</th>\n",
       "      <th>logr_test</th>\n",
       "      <th>knn_train</th>\n",
       "      <th>knn_test</th>\n",
       "    </tr>\n",
       "  </thead>\n",
       "  <tbody>\n",
       "    <tr>\n",
       "      <th>accuracy</th>\n",
       "      <td>0.775</td>\n",
       "      <td>0.773</td>\n",
       "      <td>0.827</td>\n",
       "      <td>0.766</td>\n",
       "    </tr>\n",
       "    <tr>\n",
       "      <th>precision_score</th>\n",
       "      <td>0.728</td>\n",
       "      <td>0.660</td>\n",
       "      <td>0.779</td>\n",
       "      <td>0.683</td>\n",
       "    </tr>\n",
       "    <tr>\n",
       "      <th>recall_score</th>\n",
       "      <td>0.581</td>\n",
       "      <td>0.647</td>\n",
       "      <td>0.714</td>\n",
       "      <td>0.549</td>\n",
       "    </tr>\n",
       "    <tr>\n",
       "      <th>f1_score</th>\n",
       "      <td>0.768</td>\n",
       "      <td>0.772</td>\n",
       "      <td>0.826</td>\n",
       "      <td>0.759</td>\n",
       "    </tr>\n",
       "  </tbody>\n",
       "</table>\n",
       "</div>"
      ],
      "text/plain": [
       "                 logr_train  logr_test  knn_train  knn_test\n",
       "accuracy              0.775      0.773      0.827     0.766\n",
       "precision_score       0.728      0.660      0.779     0.683\n",
       "recall_score          0.581      0.647      0.714     0.549\n",
       "f1_score              0.768      0.772      0.826     0.759"
      ]
     },
     "execution_count": 46,
     "metadata": {},
     "output_type": "execute_result"
    }
   ],
   "source": [
    "pd.concat([logr, knn], axis= 1)\n"
   ]
  },
  {
   "cell_type": "code",
   "execution_count": 47,
   "id": "9ffaf933",
   "metadata": {},
   "outputs": [],
   "source": [
    "#logresssion is the better one with a higher recall value.  Because we are trying to reduce false negatives  "
   ]
  },
  {
   "cell_type": "markdown",
   "id": "5149967c-7ae9-445d-9ab1-e105668ac809",
   "metadata": {},
   "source": [
    "# Improve Model \n",
    "    * Use Cross Validate\n",
    "    * Use Grid-Search"
   ]
  },
  {
   "cell_type": "markdown",
   "id": "2d0c08c3",
   "metadata": {},
   "source": [
    "# Cross_validate the LogRegression Model"
   ]
  },
  {
   "cell_type": "code",
   "execution_count": 48,
   "id": "ca6b510a-7bdd-47f3-9c76-3b85afe3abe0",
   "metadata": {},
   "outputs": [],
   "source": [
    "from sklearn.model_selection import cross_val_score, cross_validate"
   ]
  },
  {
   "cell_type": "code",
   "execution_count": 49,
   "id": "e44386c1",
   "metadata": {},
   "outputs": [],
   "source": [
    "model = LogisticRegression()\n",
    "scores = cross_validate(model, X_train, y_train, scoring = [\"recall_weighted\"], cv = 10)\n",
    "\n"
   ]
  },
  {
   "cell_type": "code",
   "execution_count": 50,
   "id": "b7517fa4",
   "metadata": {},
   "outputs": [
    {
     "name": "stdout",
     "output_type": "stream",
     "text": [
      "              precision    recall  f1-score   support\n",
      "\n",
      "           0       0.80      0.87      0.83       103\n",
      "           1       0.68      0.55      0.61        51\n",
      "\n",
      "    accuracy                           0.77       154\n",
      "   macro avg       0.74      0.71      0.72       154\n",
      "weighted avg       0.76      0.77      0.76       154\n",
      "\n"
     ]
    }
   ],
   "source": [
    "print(classification_report(y_test, y_pred))"
   ]
  },
  {
   "cell_type": "code",
   "execution_count": 51,
   "id": "c213c802",
   "metadata": {},
   "outputs": [
    {
     "name": "stdout",
     "output_type": "stream",
     "text": [
      "              precision    recall  f1-score   support\n",
      "\n",
      "           0       0.85      0.89      0.87       397\n",
      "           1       0.78      0.71      0.75       217\n",
      "\n",
      "    accuracy                           0.83       614\n",
      "   macro avg       0.81      0.80      0.81       614\n",
      "weighted avg       0.83      0.83      0.83       614\n",
      "\n"
     ]
    }
   ],
   "source": [
    "print(classification_report(y_train, y_train_pred))"
   ]
  },
  {
   "cell_type": "code",
   "execution_count": 52,
   "id": "d7db292a",
   "metadata": {},
   "outputs": [],
   "source": [
    "##GridSearch for LogRession Model"
   ]
  },
  {
   "cell_type": "code",
   "execution_count": 53,
   "id": "c3f99abd",
   "metadata": {},
   "outputs": [
    {
     "data": {
      "text/plain": [
       "GridSearchCV(estimator=LogisticRegression(),\n",
       "             param_grid={'C': range(0, 25), 'penalty': ['l1', 'l2']},\n",
       "             scoring='recall')"
      ]
     },
     "execution_count": 53,
     "metadata": {},
     "output_type": "execute_result"
    }
   ],
   "source": [
    "from sklearn.model_selection import GridSearchCV\n",
    "log_grid = LogisticRegression()\n",
    "grid_values = {'penalty': ['l1', 'l2'],'C':range(0, 25)}\n",
    "log_grid_model = GridSearchCV(log_grid, param_grid = grid_values,scoring = 'recall')\n",
    "log_grid_model.fit(X_train, y_train)\n"
   ]
  },
  {
   "cell_type": "code",
   "execution_count": 54,
   "id": "623016d4",
   "metadata": {},
   "outputs": [],
   "source": [
    "y_pred = log_grid_model.predict(X_test)\n",
    "y_train_pred = log_grid_model.predict(X_train)"
   ]
  },
  {
   "cell_type": "code",
   "execution_count": 55,
   "id": "a8fed673",
   "metadata": {},
   "outputs": [
    {
     "name": "stdout",
     "output_type": "stream",
     "text": [
      "              precision    recall  f1-score   support\n",
      "\n",
      "           0       0.83      0.83      0.83       103\n",
      "           1       0.66      0.65      0.65        51\n",
      "\n",
      "    accuracy                           0.77       154\n",
      "   macro avg       0.74      0.74      0.74       154\n",
      "weighted avg       0.77      0.77      0.77       154\n",
      "\n"
     ]
    }
   ],
   "source": [
    "print(classification_report(y_test, y_pred))"
   ]
  },
  {
   "cell_type": "code",
   "execution_count": 56,
   "id": "18844c08",
   "metadata": {},
   "outputs": [
    {
     "name": "stdout",
     "output_type": "stream",
     "text": [
      "              precision    recall  f1-score   support\n",
      "\n",
      "           0       0.79      0.88      0.84       397\n",
      "           1       0.73      0.58      0.65       217\n",
      "\n",
      "    accuracy                           0.78       614\n",
      "   macro avg       0.76      0.73      0.74       614\n",
      "weighted avg       0.77      0.78      0.77       614\n",
      "\n"
     ]
    }
   ],
   "source": [
    "print(classification_report(y_train, y_train_pred))"
   ]
  },
  {
   "cell_type": "code",
   "execution_count": null,
   "id": "a284e64d",
   "metadata": {},
   "outputs": [],
   "source": []
  },
  {
   "cell_type": "code",
   "execution_count": 57,
   "id": "9ea421d3",
   "metadata": {},
   "outputs": [],
   "source": [
    "#With the help of Grid Search and Cross Validation, we could iuncrease the recall value of the default model. "
   ]
  },
  {
   "cell_type": "code",
   "execution_count": null,
   "id": "a8c7a5e6",
   "metadata": {},
   "outputs": [],
   "source": []
  }
 ],
 "metadata": {
  "kernelspec": {
   "display_name": "Python 3",
   "language": "python",
   "name": "python3"
  },
  "language_info": {
   "codemirror_mode": {
    "name": "ipython",
    "version": 3
   },
   "file_extension": ".py",
   "mimetype": "text/x-python",
   "name": "python",
   "nbconvert_exporter": "python",
   "pygments_lexer": "ipython3",
   "version": "3.8.8"
  },
  "toc": {
   "base_numbering": 1,
   "nav_menu": {},
   "number_sections": true,
   "sideBar": true,
   "skip_h1_title": false,
   "title_cell": "Table of Contents",
   "title_sidebar": "Contents",
   "toc_cell": false,
   "toc_position": {},
   "toc_section_display": true,
   "toc_window_display": false
  }
 },
 "nbformat": 4,
 "nbformat_minor": 5
}
